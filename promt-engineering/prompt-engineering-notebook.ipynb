{
  "cells": [
    {
      "cell_type": "markdown",
      "id": "6e7ade04",
      "metadata": {
        "id": "6e7ade04"
      },
      "source": [
        "# 🎓 Master Thesis: Prompt Engineering with Gemma-2B\n",
        "This notebook demonstrates Prompt Engineering using the Mistral-7B-Instruct model on a dataset of beginner-level Python Q&A pairs.\n",
        "\n",
        "We'll test zero-shot and few-shot prompting strategies and store the results for evaluation."
      ]
    },
    {
      "cell_type": "code",
      "execution_count": 10,
      "id": "ce04c22b",
      "metadata": {
        "collapsed": true,
        "id": "ce04c22b"
      },
      "outputs": [],
      "source": [
        "# ✅ Install Required Libraries\n",
        "!pip install -q transformers accelerate datasets huggingface_hub"
      ]
    },
    {
      "cell_type": "code",
      "execution_count": null,
      "id": "fcd22a43",
      "metadata": {
        "id": "fcd22a43"
      },
      "outputs": [],
      "source": [
        "# ✅ Login to HuggingFace (insert your token below)\n",
        "from huggingface_hub import login\n",
        "login('access token here')  # Replace with your actual token inside quotes"
      ]
    },
    {
      "cell_type": "code",
      "execution_count": 12,
      "id": "729fb4c7",
      "metadata": {
        "id": "729fb4c7"
      },
      "outputs": [],
      "source": [
        "# ✅ Import Libraries\n",
        "from transformers import AutoTokenizer, AutoModelForCausalLM, pipeline\n",
        "import torch, json\n",
        "from pathlib import Path"
      ]
    },
    {
      "cell_type": "code",
      "execution_count": 13,
      "id": "c6ca3b92",
      "metadata": {
        "colab": {
          "base_uri": "https://localhost:8080/",
          "height": 49,
          "referenced_widgets": [
            "5c6b2cc272fb4a408accf4425dfb1c50",
            "4339781d27ec466c99163456d445f2f2",
            "b65b2c8409d64bf9bf54813ca2890d77",
            "2ffdebf55c20486887e66f2d8a1dcf5d",
            "a7995710f15f477195c099ff1d3b3270",
            "9d0d7540600d40d38ef6d824caf889bf",
            "1f90b1a7e641430dbf739cf3667f296d",
            "ae1a7a187c4b4245a2c3fcd232e6f67c",
            "3840eec9f96d44889897e70caaf9c452",
            "56923a27f38449d5b64f4a56dc162cd1",
            "03ecea1f3ce946cb97ce8f1d5ba661d4"
          ]
        },
        "collapsed": true,
        "id": "c6ca3b92",
        "outputId": "2c3ddf55-66bb-4da5-b714-607fe91d8806"
      },
      "outputs": [
        {
          "data": {
            "application/vnd.jupyter.widget-view+json": {
              "model_id": "5c6b2cc272fb4a408accf4425dfb1c50",
              "version_major": 2,
              "version_minor": 0
            },
            "text/plain": [
              "Loading checkpoint shards:   0%|          | 0/2 [00:00<?, ?it/s]"
            ]
          },
          "metadata": {},
          "output_type": "display_data"
        }
      ],
      "source": [
        "\n",
        "from transformers import AutoTokenizer, AutoModelForCausalLM\n",
        "import torch\n",
        "\n",
        "MODEL_ID = \"google/gemma-2b-it\"  # keep the instruct variant\n",
        "\n",
        "tokenizer = AutoTokenizer.from_pretrained(MODEL_ID)\n",
        "model = AutoModelForCausalLM.from_pretrained(\n",
        "    MODEL_ID,\n",
        "    torch_dtype=torch.float16 if torch.cuda.is_available() else torch.float32,\n",
        "    device_map=\"auto\"\n",
        ")\n",
        "\n",
        "# Deterministic decoding config (prevents random guessing)\n",
        "GEN_KW = dict(\n",
        "    max_new_tokens=256,\n",
        "    do_sample=False,  # <- crucial: disables sampling (temperature/top_p ignored)\n",
        "    eos_token_id=tokenizer.eos_token_id,\n",
        "    pad_token_id=tokenizer.eos_token_id,\n",
        ")\n"
      ]
    },
    {
      "cell_type": "code",
      "execution_count": 39,
      "id": "42xz0jlOAAVM",
      "metadata": {
        "id": "42xz0jlOAAVM"
      },
      "outputs": [],
      "source": [
        "GEN_KW = dict(\n",
        "    max_new_tokens=512,           # give enough room to finish answers\n",
        "    do_sample=False,              # deterministic\n",
        "    eos_token_id=tokenizer.eos_token_id,\n",
        "    pad_token_id=tokenizer.eos_token_id,\n",
        ")\n",
        "\n",
        "def build_prompt(user_question: str, context: str = \"\") -> str:\n",
        "    rules = (\n",
        "        \"You are a careful assistant. Follow STRICTLY:\\n\"\n",
        "        \"1) Only answer using the provided context (if any).\\n\"\n",
        "        \"2) If the answer is not in the context or you are uncertain, reply EXACTLY with: Sorry I do not have that information\\n\"\n",
        "        \"3) Do not add any explanation, punctuation, or extra words when refusing.\\n\"\n",
        "        \"4) When you do know the answer, explain it in detail with at least 3 sentences and examples if possible.\\n\"\n",
        "        \"5) Do not rephrase the refusal.\\n\"\n",
        "    )\n",
        "\n",
        "    if context.strip():\n",
        "        content = rules + f\"\\nUse ONLY this context to answer:\\n---\\n{context}\\n---\\n\\nQuestion: {user_question}\"\n",
        "    else:\n",
        "        content = rules + f\"\\nQuestion: {user_question}\"\n",
        "\n",
        "    messages = [{\"role\": \"user\", \"content\": content}]\n",
        "    return tokenizer.apply_chat_template(messages, tokenize=False, add_generation_prompt=True)"
      ]
    },
    {
      "cell_type": "code",
      "execution_count": 42,
      "id": "Wk62xVintxmv",
      "metadata": {
        "id": "Wk62xVintxmv"
      },
      "outputs": [],
      "source": [
        "def ask_model(question_text: str, context: str = \"\") -> str:\n",
        "    prompt = build_prompt(question_text, context)\n",
        "    inputs = tokenizer(prompt, return_tensors=\"pt\").to(model.device)\n",
        "    outputs = model.generate(**inputs, **GEN_KW)\n",
        "\n",
        "    # Decode without prompt-length slicing\n",
        "    generated_text = tokenizer.decode(outputs[0], skip_special_tokens=True)\n",
        "\n",
        "    # Try to find where the answer starts by splitting on the question\n",
        "    if question_text in generated_text:\n",
        "        answer = generated_text.split(question_text, 1)[-1].strip()\n",
        "    else:\n",
        "        answer = generated_text.strip()\n",
        "\n",
        "    # If it's exactly the refusal phrase, keep it clean\n",
        "    if answer.lower().startswith(\"sorry i do not have that information\"):\n",
        "        return \"Sorry I do not have that information\"\n",
        "\n",
        "    return answer\n"
      ]
    },
    {
      "cell_type": "code",
      "execution_count": 45,
      "id": "HJhZ-YvklUmS",
      "metadata": {
        "colab": {
          "base_uri": "https://localhost:8080/"
        },
        "id": "HJhZ-YvklUmS",
        "outputId": "52ce31eb-1d30-4bb8-fb6d-6c149a913759"
      },
      "outputs": [
        {
          "name": "stdout",
          "output_type": "stream",
          "text": [
            "model\n",
            "Sorry I do not have that information. I am unable to provide a detailed explanation of the new features in Python 3.13 from the context.\n"
          ]
        }
      ],
      "source": [
        "question = \"1.What’s Actually New in Python 3.13\"\n",
        "answer = ask_model(question)\n",
        "print(answer)\n"
      ]
    }
  ],
  "metadata": {
    "accelerator": "GPU",
    "colab": {
      "gpuType": "T4",
      "provenance": []
    },
    "kernelspec": {
      "display_name": "Python 3",
      "name": "python3"
    },
    "language_info": {
      "name": "python"
    },
    "widgets": {
      "application/vnd.jupyter.widget-state+json": {
        "03ecea1f3ce946cb97ce8f1d5ba661d4": {
          "model_module": "@jupyter-widgets/controls",
          "model_module_version": "1.5.0",
          "model_name": "DescriptionStyleModel",
          "state": {
            "_model_module": "@jupyter-widgets/controls",
            "_model_module_version": "1.5.0",
            "_model_name": "DescriptionStyleModel",
            "_view_count": null,
            "_view_module": "@jupyter-widgets/base",
            "_view_module_version": "1.2.0",
            "_view_name": "StyleView",
            "description_width": ""
          }
        },
        "1f90b1a7e641430dbf739cf3667f296d": {
          "model_module": "@jupyter-widgets/controls",
          "model_module_version": "1.5.0",
          "model_name": "DescriptionStyleModel",
          "state": {
            "_model_module": "@jupyter-widgets/controls",
            "_model_module_version": "1.5.0",
            "_model_name": "DescriptionStyleModel",
            "_view_count": null,
            "_view_module": "@jupyter-widgets/base",
            "_view_module_version": "1.2.0",
            "_view_name": "StyleView",
            "description_width": ""
          }
        },
        "2ffdebf55c20486887e66f2d8a1dcf5d": {
          "model_module": "@jupyter-widgets/controls",
          "model_module_version": "1.5.0",
          "model_name": "HTMLModel",
          "state": {
            "_dom_classes": [],
            "_model_module": "@jupyter-widgets/controls",
            "_model_module_version": "1.5.0",
            "_model_name": "HTMLModel",
            "_view_count": null,
            "_view_module": "@jupyter-widgets/controls",
            "_view_module_version": "1.5.0",
            "_view_name": "HTMLView",
            "description": "",
            "description_tooltip": null,
            "layout": "IPY_MODEL_56923a27f38449d5b64f4a56dc162cd1",
            "placeholder": "​",
            "style": "IPY_MODEL_03ecea1f3ce946cb97ce8f1d5ba661d4",
            "value": " 2/2 [00:15&lt;00:00,  6.37s/it]"
          }
        },
        "3840eec9f96d44889897e70caaf9c452": {
          "model_module": "@jupyter-widgets/controls",
          "model_module_version": "1.5.0",
          "model_name": "ProgressStyleModel",
          "state": {
            "_model_module": "@jupyter-widgets/controls",
            "_model_module_version": "1.5.0",
            "_model_name": "ProgressStyleModel",
            "_view_count": null,
            "_view_module": "@jupyter-widgets/base",
            "_view_module_version": "1.2.0",
            "_view_name": "StyleView",
            "bar_color": null,
            "description_width": ""
          }
        },
        "4339781d27ec466c99163456d445f2f2": {
          "model_module": "@jupyter-widgets/controls",
          "model_module_version": "1.5.0",
          "model_name": "HTMLModel",
          "state": {
            "_dom_classes": [],
            "_model_module": "@jupyter-widgets/controls",
            "_model_module_version": "1.5.0",
            "_model_name": "HTMLModel",
            "_view_count": null,
            "_view_module": "@jupyter-widgets/controls",
            "_view_module_version": "1.5.0",
            "_view_name": "HTMLView",
            "description": "",
            "description_tooltip": null,
            "layout": "IPY_MODEL_9d0d7540600d40d38ef6d824caf889bf",
            "placeholder": "​",
            "style": "IPY_MODEL_1f90b1a7e641430dbf739cf3667f296d",
            "value": "Loading checkpoint shards: 100%"
          }
        },
        "56923a27f38449d5b64f4a56dc162cd1": {
          "model_module": "@jupyter-widgets/base",
          "model_module_version": "1.2.0",
          "model_name": "LayoutModel",
          "state": {
            "_model_module": "@jupyter-widgets/base",
            "_model_module_version": "1.2.0",
            "_model_name": "LayoutModel",
            "_view_count": null,
            "_view_module": "@jupyter-widgets/base",
            "_view_module_version": "1.2.0",
            "_view_name": "LayoutView",
            "align_content": null,
            "align_items": null,
            "align_self": null,
            "border": null,
            "bottom": null,
            "display": null,
            "flex": null,
            "flex_flow": null,
            "grid_area": null,
            "grid_auto_columns": null,
            "grid_auto_flow": null,
            "grid_auto_rows": null,
            "grid_column": null,
            "grid_gap": null,
            "grid_row": null,
            "grid_template_areas": null,
            "grid_template_columns": null,
            "grid_template_rows": null,
            "height": null,
            "justify_content": null,
            "justify_items": null,
            "left": null,
            "margin": null,
            "max_height": null,
            "max_width": null,
            "min_height": null,
            "min_width": null,
            "object_fit": null,
            "object_position": null,
            "order": null,
            "overflow": null,
            "overflow_x": null,
            "overflow_y": null,
            "padding": null,
            "right": null,
            "top": null,
            "visibility": null,
            "width": null
          }
        },
        "5c6b2cc272fb4a408accf4425dfb1c50": {
          "model_module": "@jupyter-widgets/controls",
          "model_module_version": "1.5.0",
          "model_name": "HBoxModel",
          "state": {
            "_dom_classes": [],
            "_model_module": "@jupyter-widgets/controls",
            "_model_module_version": "1.5.0",
            "_model_name": "HBoxModel",
            "_view_count": null,
            "_view_module": "@jupyter-widgets/controls",
            "_view_module_version": "1.5.0",
            "_view_name": "HBoxView",
            "box_style": "",
            "children": [
              "IPY_MODEL_4339781d27ec466c99163456d445f2f2",
              "IPY_MODEL_b65b2c8409d64bf9bf54813ca2890d77",
              "IPY_MODEL_2ffdebf55c20486887e66f2d8a1dcf5d"
            ],
            "layout": "IPY_MODEL_a7995710f15f477195c099ff1d3b3270"
          }
        },
        "9d0d7540600d40d38ef6d824caf889bf": {
          "model_module": "@jupyter-widgets/base",
          "model_module_version": "1.2.0",
          "model_name": "LayoutModel",
          "state": {
            "_model_module": "@jupyter-widgets/base",
            "_model_module_version": "1.2.0",
            "_model_name": "LayoutModel",
            "_view_count": null,
            "_view_module": "@jupyter-widgets/base",
            "_view_module_version": "1.2.0",
            "_view_name": "LayoutView",
            "align_content": null,
            "align_items": null,
            "align_self": null,
            "border": null,
            "bottom": null,
            "display": null,
            "flex": null,
            "flex_flow": null,
            "grid_area": null,
            "grid_auto_columns": null,
            "grid_auto_flow": null,
            "grid_auto_rows": null,
            "grid_column": null,
            "grid_gap": null,
            "grid_row": null,
            "grid_template_areas": null,
            "grid_template_columns": null,
            "grid_template_rows": null,
            "height": null,
            "justify_content": null,
            "justify_items": null,
            "left": null,
            "margin": null,
            "max_height": null,
            "max_width": null,
            "min_height": null,
            "min_width": null,
            "object_fit": null,
            "object_position": null,
            "order": null,
            "overflow": null,
            "overflow_x": null,
            "overflow_y": null,
            "padding": null,
            "right": null,
            "top": null,
            "visibility": null,
            "width": null
          }
        },
        "a7995710f15f477195c099ff1d3b3270": {
          "model_module": "@jupyter-widgets/base",
          "model_module_version": "1.2.0",
          "model_name": "LayoutModel",
          "state": {
            "_model_module": "@jupyter-widgets/base",
            "_model_module_version": "1.2.0",
            "_model_name": "LayoutModel",
            "_view_count": null,
            "_view_module": "@jupyter-widgets/base",
            "_view_module_version": "1.2.0",
            "_view_name": "LayoutView",
            "align_content": null,
            "align_items": null,
            "align_self": null,
            "border": null,
            "bottom": null,
            "display": null,
            "flex": null,
            "flex_flow": null,
            "grid_area": null,
            "grid_auto_columns": null,
            "grid_auto_flow": null,
            "grid_auto_rows": null,
            "grid_column": null,
            "grid_gap": null,
            "grid_row": null,
            "grid_template_areas": null,
            "grid_template_columns": null,
            "grid_template_rows": null,
            "height": null,
            "justify_content": null,
            "justify_items": null,
            "left": null,
            "margin": null,
            "max_height": null,
            "max_width": null,
            "min_height": null,
            "min_width": null,
            "object_fit": null,
            "object_position": null,
            "order": null,
            "overflow": null,
            "overflow_x": null,
            "overflow_y": null,
            "padding": null,
            "right": null,
            "top": null,
            "visibility": null,
            "width": null
          }
        },
        "ae1a7a187c4b4245a2c3fcd232e6f67c": {
          "model_module": "@jupyter-widgets/base",
          "model_module_version": "1.2.0",
          "model_name": "LayoutModel",
          "state": {
            "_model_module": "@jupyter-widgets/base",
            "_model_module_version": "1.2.0",
            "_model_name": "LayoutModel",
            "_view_count": null,
            "_view_module": "@jupyter-widgets/base",
            "_view_module_version": "1.2.0",
            "_view_name": "LayoutView",
            "align_content": null,
            "align_items": null,
            "align_self": null,
            "border": null,
            "bottom": null,
            "display": null,
            "flex": null,
            "flex_flow": null,
            "grid_area": null,
            "grid_auto_columns": null,
            "grid_auto_flow": null,
            "grid_auto_rows": null,
            "grid_column": null,
            "grid_gap": null,
            "grid_row": null,
            "grid_template_areas": null,
            "grid_template_columns": null,
            "grid_template_rows": null,
            "height": null,
            "justify_content": null,
            "justify_items": null,
            "left": null,
            "margin": null,
            "max_height": null,
            "max_width": null,
            "min_height": null,
            "min_width": null,
            "object_fit": null,
            "object_position": null,
            "order": null,
            "overflow": null,
            "overflow_x": null,
            "overflow_y": null,
            "padding": null,
            "right": null,
            "top": null,
            "visibility": null,
            "width": null
          }
        },
        "b65b2c8409d64bf9bf54813ca2890d77": {
          "model_module": "@jupyter-widgets/controls",
          "model_module_version": "1.5.0",
          "model_name": "FloatProgressModel",
          "state": {
            "_dom_classes": [],
            "_model_module": "@jupyter-widgets/controls",
            "_model_module_version": "1.5.0",
            "_model_name": "FloatProgressModel",
            "_view_count": null,
            "_view_module": "@jupyter-widgets/controls",
            "_view_module_version": "1.5.0",
            "_view_name": "ProgressView",
            "bar_style": "success",
            "description": "",
            "description_tooltip": null,
            "layout": "IPY_MODEL_ae1a7a187c4b4245a2c3fcd232e6f67c",
            "max": 2,
            "min": 0,
            "orientation": "horizontal",
            "style": "IPY_MODEL_3840eec9f96d44889897e70caaf9c452",
            "value": 2
          }
        }
      }
    }
  },
  "nbformat": 4,
  "nbformat_minor": 5
}
